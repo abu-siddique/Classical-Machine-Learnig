{
 "cells": [
  {
   "cell_type": "code",
   "execution_count": 1,
   "metadata": {},
   "outputs": [],
   "source": [
    "import numpy as np"
   ]
  },
  {
   "cell_type": "code",
   "execution_count": 10,
   "metadata": {},
   "outputs": [
    {
     "data": {
      "text/plain": [
       "()"
      ]
     },
     "execution_count": 10,
     "metadata": {},
     "output_type": "execute_result"
    }
   ],
   "source": [
    "scalar = np.array(32)\n",
    "scalar\n",
    "type(scalar)\n",
    "scalar.shape"
   ]
  },
  {
   "cell_type": "code",
   "execution_count": 42,
   "metadata": {},
   "outputs": [
    {
     "name": "stdout",
     "output_type": "stream",
     "text": [
      "[1 1 1 4]\n",
      "<class 'numpy.ndarray'>\n"
     ]
    },
    {
     "data": {
      "text/plain": [
       "(4,)"
      ]
     },
     "execution_count": 42,
     "metadata": {},
     "output_type": "execute_result"
    }
   ],
   "source": [
    "one_D_arr = np.array([1,1,1,4])\n",
    "print(one_D_arr)\n",
    "print(type(one_D_arr))\n",
    "one_D_arr.shape"
   ]
  },
  {
   "cell_type": "code",
   "execution_count": 17,
   "metadata": {},
   "outputs": [
    {
     "name": "stdout",
     "output_type": "stream",
     "text": [
      "4\n",
      "1\n"
     ]
    }
   ],
   "source": [
    "print(one_D_arr[-1])\n",
    "print(one_D_arr[0])"
   ]
  },
  {
   "cell_type": "code",
   "execution_count": 43,
   "metadata": {},
   "outputs": [
    {
     "name": "stdout",
     "output_type": "stream",
     "text": [
      "[7 8 9 4]\n",
      "[-5 -6 -7  4]\n",
      "[6 7 8 0]\n",
      "[12 14 16  0]\n",
      "21\n"
     ]
    }
   ],
   "source": [
    "one_D_arr_2 = np.array([6,7,8,0])\n",
    "print(one_D_arr + one_D_arr_2) #element wise addition\n",
    "print(one_D_arr - one_D_arr_2) #element wise subs\n",
    "print(one_D_arr * one_D_arr_2) #element wise multipication\n",
    "print(one_D_arr_2 * 2) #scalar mult\n",
    "print(np.dot(one_D_arr, one_D_arr_2))"
   ]
  },
  {
   "cell_type": "code",
   "execution_count": 30,
   "metadata": {},
   "outputs": [
    {
     "name": "stdout",
     "output_type": "stream",
     "text": [
      "(2, 3)\n",
      "<class 'numpy.ndarray'>\n",
      "[[1 2 3]\n",
      " [4 5 6]]\n"
     ]
    }
   ],
   "source": [
    "matrix = np.array([[1,2,3], [4,5,6]])\n",
    "print(matrix.shape)\n",
    "print(type(matrix))\n",
    "print(matrix)"
   ]
  },
  {
   "cell_type": "code",
   "execution_count": 37,
   "metadata": {},
   "outputs": [
    {
     "name": "stdout",
     "output_type": "stream",
     "text": [
      "2\n",
      "5\n"
     ]
    }
   ],
   "source": [
    "print(matrix[0, 1])  # Element in the 1st row, 2nd column\n",
    "print(matrix[1][1])"
   ]
  },
  {
   "cell_type": "code",
   "execution_count": 45,
   "metadata": {},
   "outputs": [
    {
     "name": "stdout",
     "output_type": "stream",
     "text": [
      "[[ 6  8 10]\n",
      " [12 14  7]]\n"
     ]
    },
    {
     "ename": "ValueError",
     "evalue": "matmul: Input operand 1 has a mismatch in its core dimension 0, with gufunc signature (n?,k),(k,m?)->(n?,m?) (size 2 is different from 3)",
     "output_type": "error",
     "traceback": [
      "\u001b[1;31m---------------------------------------------------------------------------\u001b[0m",
      "\u001b[1;31mValueError\u001b[0m                                Traceback (most recent call last)",
      "\u001b[1;32md:\\MLProjects\\Classical-Machine-Learnig\\notebooks\\numpy-basic\\numpy-basic.ipynb Cell 8\u001b[0m line \u001b[0;36m3\n\u001b[0;32m      <a href='vscode-notebook-cell:/d%3A/MLProjects/Classical-Machine-Learnig/notebooks/numpy-basic/numpy-basic.ipynb#X10sZmlsZQ%3D%3D?line=0'>1</a>\u001b[0m matrix2 \u001b[39m=\u001b[39m np\u001b[39m.\u001b[39marray([[\u001b[39m5\u001b[39m, \u001b[39m6\u001b[39m, \u001b[39m7\u001b[39m], [\u001b[39m8\u001b[39m, \u001b[39m9\u001b[39m, \u001b[39m1\u001b[39m]])\n\u001b[0;32m      <a href='vscode-notebook-cell:/d%3A/MLProjects/Classical-Machine-Learnig/notebooks/numpy-basic/numpy-basic.ipynb#X10sZmlsZQ%3D%3D?line=1'>2</a>\u001b[0m \u001b[39mprint\u001b[39m(matrix \u001b[39m+\u001b[39m matrix2) \u001b[39m#element wise add\u001b[39;00m\n\u001b[1;32m----> <a href='vscode-notebook-cell:/d%3A/MLProjects/Classical-Machine-Learnig/notebooks/numpy-basic/numpy-basic.ipynb#X10sZmlsZQ%3D%3D?line=2'>3</a>\u001b[0m \u001b[39mprint\u001b[39m(np\u001b[39m.\u001b[39;49mmatmul(matrix, matrix2))\n",
      "\u001b[1;31mValueError\u001b[0m: matmul: Input operand 1 has a mismatch in its core dimension 0, with gufunc signature (n?,k),(k,m?)->(n?,m?) (size 2 is different from 3)"
     ]
    }
   ],
   "source": [
    "matrix2 = np.array([[5, 6, 7], [8, 9, 1]])\n",
    "print(matrix + matrix2) #element wise add\n",
    "print(np.matmul(matrix, matrix2))"
   ]
  },
  {
   "cell_type": "code",
   "execution_count": 49,
   "metadata": {},
   "outputs": [
    {
     "name": "stdout",
     "output_type": "stream",
     "text": [
      "(2, 3)  X  (3, 3)\n",
      "[[24 30 18]\n",
      " [66 81 51]]\n",
      "[[24 30 18]\n",
      " [66 81 51]]\n"
     ]
    }
   ],
   "source": [
    "matrix3 = np.array([[5, 6, 7], [8, 9, 1], [1, 2, 3]])\n",
    "print(matrix.shape, \" X \",matrix3.shape)\n",
    "print(np.dot(matrix, matrix3))\n",
    "print(np.matmul(matrix, matrix3))"
   ]
  },
  {
   "cell_type": "code",
   "execution_count": 55,
   "metadata": {},
   "outputs": [
    {
     "name": "stdout",
     "output_type": "stream",
     "text": [
      "(2, 3)  X  (3, 2)\n",
      "[[5 8]\n",
      " [6 9]\n",
      " [7 1]]\n"
     ]
    },
    {
     "data": {
      "text/plain": [
       "array([[38, 29],\n",
       "       [92, 83]])"
      ]
     },
     "execution_count": 55,
     "metadata": {},
     "output_type": "execute_result"
    }
   ],
   "source": [
    "matrix4 = np.matrix_transpose(matrix2)\n",
    "print(matrix.shape, \" X \",matrix4.shape)\n",
    "print(matrix4)\n",
    "np.matmul(matrix, matrix4)"
   ]
  },
  {
   "cell_type": "code",
   "execution_count": 128,
   "metadata": {},
   "outputs": [
    {
     "name": "stdout",
     "output_type": "stream",
     "text": [
      "[[5 8]\n",
      " [6 9]\n",
      " [7 1]]\n",
      "[[4 7]\n",
      " [5 8]\n",
      " [6 0]]\n",
      "[[ 6  9]\n",
      " [ 7 10]\n",
      " [ 8  2]]\n",
      "[[ 6  9]\n",
      " [ 7 10]\n",
      " [ 8  2]]\n"
     ]
    }
   ],
   "source": [
    "print(matrix4)\n",
    "matrix5 = matrix4-1 # substract scalar from each element\n",
    "print(matrix5)\n",
    "matrix6 = matrix4 + 1\n",
    "print(matrix6)\n",
    "matrix6 = 1 + matrix4\n",
    "print(matrix6)"
   ]
  },
  {
   "cell_type": "code",
   "execution_count": 61,
   "metadata": {},
   "outputs": [
    {
     "name": "stdout",
     "output_type": "stream",
     "text": [
      "[[0 0 0]\n",
      " [0 0 0]\n",
      " [0 0 0]]\n"
     ]
    }
   ],
   "source": [
    "zeros = np.zeros(shape=(3,3), dtype=int)\n",
    "print(zeros)"
   ]
  },
  {
   "cell_type": "code",
   "execution_count": 65,
   "metadata": {},
   "outputs": [
    {
     "name": "stdout",
     "output_type": "stream",
     "text": [
      "[[1 2 3]\n",
      " [4 5 6]]\n",
      "[[0. 0. 0.]\n",
      " [0. 0. 0.]]\n"
     ]
    }
   ],
   "source": [
    "existing_arr = np.array([[1,2,3], [4,5,6]])\n",
    "print(existing_arr)\n",
    "zeros = np.zeros_like(existing_arr, dtype=float) #zeros like will infere the shape from existing arr\n",
    "print(zeros)"
   ]
  },
  {
   "cell_type": "code",
   "execution_count": 67,
   "metadata": {},
   "outputs": [
    {
     "name": "stdout",
     "output_type": "stream",
     "text": [
      "[[1 1 1 1]\n",
      " [1 1 1 1]]\n"
     ]
    }
   ],
   "source": [
    "ones = np.ones((2, 4), dtype=int)    # 2x4 matrix filled with ones\n",
    "print(ones)"
   ]
  },
  {
   "cell_type": "code",
   "execution_count": 130,
   "metadata": {},
   "outputs": [
    {
     "name": "stdout",
     "output_type": "stream",
     "text": [
      "[[1. 0. 0.]\n",
      " [0. 1. 0.]\n",
      " [0. 0. 1.]]\n"
     ]
    }
   ],
   "source": [
    "identity_matrix = np.eye(3) #identity matrix of size 3 X 3\n",
    "print(identity_matrix)"
   ]
  },
  {
   "cell_type": "code",
   "execution_count": 135,
   "metadata": {},
   "outputs": [
    {
     "data": {
      "text/plain": [
       "array([-10. ,  -8.5,  -7. ,  -5.5,  -4. ,  -2.5,  -1. ,   0.5,   2. ,\n",
       "         3.5,   5. ,   6.5,   8. ,   9.5])"
      ]
     },
     "execution_count": 135,
     "metadata": {},
     "output_type": "execute_result"
    }
   ],
   "source": [
    "np.arange(start=-10, stop=10, step=1.5) #generate 1 d array from low to high with step"
   ]
  },
  {
   "cell_type": "code",
   "execution_count": 139,
   "metadata": {},
   "outputs": [
    {
     "data": {
      "text/plain": [
       "array([[-10. ,  -8.5,  -7. ,  -5.5,  -4. ,  -2.5,  -1. ],\n",
       "       [  0.5,   2. ,   3.5,   5. ,   6.5,   8. ,   9.5]])"
      ]
     },
     "execution_count": 139,
     "metadata": {},
     "output_type": "execute_result"
    }
   ],
   "source": [
    "arr = np.arange(start=-10, stop=10, step=1.5)\n",
    "arr.reshape(2,7) #reshape it"
   ]
  },
  {
   "cell_type": "code",
   "execution_count": 144,
   "metadata": {},
   "outputs": [
    {
     "name": "stdout",
     "output_type": "stream",
     "text": [
      "[0.   0.25 0.5  0.75 1.  ]\n"
     ]
    }
   ],
   "source": [
    "lin_space = np.linspace(0, 1, 5) #generate evenly spaced number from the range\n",
    "print(lin_space)"
   ]
  },
  {
   "cell_type": "code",
   "execution_count": 152,
   "metadata": {},
   "outputs": [
    {
     "name": "stdout",
     "output_type": "stream",
     "text": [
      "[1 2 3 4 5 6]\n",
      "[[4 2 3]\n",
      " [4 5 6]]\n",
      "[1 2 3 4 5 6]\n"
     ]
    }
   ],
   "source": [
    "mat = np.array([[1,2,3],[4,5,6]])\n",
    "flattened_matrix = mat.flatten()  #retrun new copy of original arr\n",
    "reavel_mat = mat.ravel() \n",
    "print(reavel_mat)\n",
    "reavel_mat[0] = 4 # change in ravel will change original array\n",
    "print(mat)\n",
    "print(flattened_matrix)"
   ]
  },
  {
   "cell_type": "code",
   "execution_count": 121,
   "metadata": {},
   "outputs": [
    {
     "name": "stdout",
     "output_type": "stream",
     "text": [
      "[[0.73130075 0.34038522 0.0920556 ]\n",
      " [0.46349802 0.50869889 0.08846017]\n",
      " [0.52803522 0.99215804 0.39503593]]\n"
     ]
    }
   ],
   "source": [
    "random_array = np.random.rand(3, 3)  # 3x3 matrix with random numbers from 0 to 1\n",
    "print(random_array)"
   ]
  },
  {
   "cell_type": "code",
   "execution_count": 114,
   "metadata": {},
   "outputs": [
    {
     "name": "stdout",
     "output_type": "stream",
     "text": [
      "[[-1.07004333 -0.18949583  0.25500144]\n",
      " [-0.45802699  0.43516349 -0.58359505]\n",
      " [ 0.81684707  0.67272081 -0.10441114]]\n"
     ]
    }
   ],
   "source": [
    "normal_distribution = np.random.randn(3, 3 )  # 3x3 matrix from standard normal distribution\n",
    "print(normal_distribution)"
   ]
  },
  {
   "cell_type": "code",
   "execution_count": 73,
   "metadata": {},
   "outputs": [
    {
     "name": "stdout",
     "output_type": "stream",
     "text": [
      "[[ 4 -7  7]\n",
      " [-7 -4  6]\n",
      " [-5  6  8]]\n"
     ]
    }
   ],
   "source": [
    "random_integers = np.random.randint(-19, 10, (3, 3))  # 3x3 matrix with integers from 0 to 9\n",
    "print(random_integers)"
   ]
  },
  {
   "cell_type": "code",
   "execution_count": 77,
   "metadata": {},
   "outputs": [
    {
     "name": "stdout",
     "output_type": "stream",
     "text": [
      "[[ 0.59291467 -0.93261468]\n",
      " [-0.91435784  0.14454958]]\n"
     ]
    }
   ],
   "source": [
    "uniform_distribution = np.random.uniform(-1, 1, (2, 2))  # 2x4 matrix with values from -5 to 5\n",
    "print(uniform_distribution)"
   ]
  },
  {
   "cell_type": "code",
   "execution_count": 93,
   "metadata": {},
   "outputs": [
    {
     "name": "stdout",
     "output_type": "stream",
     "text": [
      "[40 30 10]\n",
      "[20 40 10]\n"
     ]
    }
   ],
   "source": [
    "array = np.array([10, 20, 30, 40, 50])\n",
    "random_sample = np.random.choice(array, size=3, replace=False)  # Randomly select 3 unique elements\n",
    "random_sample_with_replace = np.random.choice(array, size=3, replace=True)  # Randomly select 3 elements you can put back previous elemen to arr\n",
    "print(random_sample)\n",
    "print(random_sample_with_replace)"
   ]
  },
  {
   "cell_type": "code",
   "execution_count": 94,
   "metadata": {},
   "outputs": [
    {
     "name": "stdout",
     "output_type": "stream",
     "text": [
      "[5 2 3 1 4]\n"
     ]
    }
   ],
   "source": [
    "array = np.array([1, 2, 3, 4, 5])\n",
    "np.random.shuffle(array)  # Shuffles array in place\n",
    "print(array)"
   ]
  },
  {
   "cell_type": "code",
   "execution_count": 162,
   "metadata": {},
   "outputs": [
    {
     "name": "stdout",
     "output_type": "stream",
     "text": [
      "[6 4 6 6 6 5 4 6 7 6 8 8 3 2 3 7 8 4 4 5 4 5 6 5 6 5 1 5 5 5 4 5 5 3 4 7 2\n",
      " 2 4 5 9 9 9 3 6 5 4 7 4 9]\n"
     ]
    }
   ],
   "source": [
    "binomial_distribution = np.random.binomial(n=10, p=0.5, size=50)  # 5 samples from binomial distribution\n",
    "print(binomial_distribution)"
   ]
  },
  {
   "cell_type": "code",
   "execution_count": 102,
   "metadata": {},
   "outputs": [
    {
     "name": "stdout",
     "output_type": "stream",
     "text": [
      "[[ 0.91735931 -0.90002668  2.37431124]\n",
      " [ 0.59793077  2.58047851  5.95051031]]\n"
     ]
    }
   ],
   "source": [
    "normal_distribution = np.random.normal(loc=0, scale=3, size=(2,3))  # 2x3 matrix generated which follows normal distribution\n",
    "print(normal_distribution)"
   ]
  },
  {
   "cell_type": "code",
   "execution_count": 112,
   "metadata": {},
   "outputs": [
    {
     "name": "stdout",
     "output_type": "stream",
     "text": [
      "[[0.54340494 0.27836939]\n",
      " [0.42451759 0.84477613]]\n"
     ]
    }
   ],
   "source": [
    "np.random.seed(100)  # Set seed so that you get same rand each time run the code\n",
    "random_numbers = np.random.rand(2, 2)\n",
    "print(random_numbers)"
   ]
  },
  {
   "cell_type": "code",
   "execution_count": null,
   "metadata": {},
   "outputs": [],
   "source": []
  },
  {
   "cell_type": "code",
   "execution_count": null,
   "metadata": {},
   "outputs": [],
   "source": []
  },
  {
   "cell_type": "code",
   "execution_count": 176,
   "metadata": {},
   "outputs": [
    {
     "data": {
      "text/plain": [
       "array([1, 5, 5, 6, 1, 5, 3, 6, 2, 4, 5, 1, 4, 6, 6, 6, 4, 1, 2, 6, 2, 4,\n",
       "       4, 6, 1, 4, 3, 6, 4, 2], dtype=int32)"
      ]
     },
     "execution_count": 176,
     "metadata": {},
     "output_type": "execute_result"
    }
   ],
   "source": [
    "np.random.randint(1, 7, 30)"
   ]
  },
  {
   "cell_type": "code",
   "execution_count": null,
   "metadata": {},
   "outputs": [],
   "source": []
  },
  {
   "cell_type": "code",
   "execution_count": 184,
   "metadata": {},
   "outputs": [
    {
     "name": "stdout",
     "output_type": "stream",
     "text": [
      "Probability of exactly 15 visits: 0.0516\n",
      "Probability of exactly 20 visits: 0.0888\n",
      "Probability of exactly 25 visits: 0.0446\n"
     ]
    }
   ],
   "source": [
    "from scipy.stats import poisson\n",
    "\n",
    "# Parameters\n",
    "lambda_rate = 20  # Average rate of visits per hour\n",
    "\n",
    "# Number of visits to calculate probabilities for\n",
    "k_values = [15, 20, 25]\n",
    "\n",
    "# Calculate and print probabilities\n",
    "for k in k_values:\n",
    "    probability = poisson.pmf(k, lambda_rate)\n",
    "    print(f\"Probability of exactly {k} visits: {probability:.4f}\")\n"
   ]
  }
 ],
 "metadata": {
  "kernelspec": {
   "display_name": ".venv",
   "language": "python",
   "name": "python3"
  },
  "language_info": {
   "codemirror_mode": {
    "name": "ipython",
    "version": 3
   },
   "file_extension": ".py",
   "mimetype": "text/x-python",
   "name": "python",
   "nbconvert_exporter": "python",
   "pygments_lexer": "ipython3",
   "version": "3.12.1"
  }
 },
 "nbformat": 4,
 "nbformat_minor": 2
}
