{
 "cells": [
  {
   "cell_type": "code",
   "execution_count": 2,
   "metadata": {},
   "outputs": [
    {
     "data": {
      "text/plain": [
       "5"
      ]
     },
     "execution_count": 2,
     "metadata": {},
     "output_type": "execute_result"
    }
   ],
   "source": [
    "x = 5\n",
    "x"
   ]
  },
  {
   "cell_type": "code",
   "execution_count": 34,
   "metadata": {},
   "outputs": [
    {
     "data": {
      "text/plain": [
       "25"
      ]
     },
     "execution_count": 34,
     "metadata": {},
     "output_type": "execute_result"
    }
   ],
   "source": [
    "x+2\n",
    "x-2\n",
    "x*2\n",
    "x**2\n",
    "x/float(2)\n",
    "x**2\n"
   ]
  },
  {
   "cell_type": "code",
   "execution_count": 20,
   "metadata": {},
   "outputs": [
    {
     "data": {
      "text/plain": [
       "bool"
      ]
     },
     "execution_count": 20,
     "metadata": {},
     "output_type": "execute_result"
    }
   ],
   "source": [
    "# help(str)\n",
    "int(6)\n",
    "float(7)\n",
    "type(bool(\"True\"))"
   ]
  },
  {
   "cell_type": "code",
   "execution_count": 98,
   "metadata": {},
   "outputs": [
    {
     "data": {
      "text/plain": [
       "'hi'"
      ]
     },
     "execution_count": 98,
     "metadata": {},
     "output_type": "execute_result"
    }
   ],
   "source": [
    "my_string = 'thisisawesome'\n",
    "my_string\n",
    "my_string*2\n",
    "my_string + '_day'\n",
    "'sis' in my_string\n",
    "my_string[3]\n",
    "my_string[1:3]"
   ]
  },
  {
   "cell_type": "code",
   "execution_count": 106,
   "metadata": {},
   "outputs": [
    {
     "name": "stdout",
     "output_type": "stream",
     "text": [
      "['my', 'list', 'is', 'nice', 7, True, 'is']\n",
      "['list', 'is']\n",
      "['my', 'list', 'is']\n",
      "['list', 'is', 'nice', 7, True, 'is']\n",
      "['my', 'list', 'is', 'nice', 7, True, 'is']\n",
      "['list', 'is', 'nice', 7]\n",
      "[[4, 5, 6, 7], [3, 6, 7, 8]]\n",
      "[3, 6, 7]\n",
      "my\n",
      "list\n",
      "is\n",
      "nice\n",
      "7\n",
      "True\n",
      "is\n"
     ]
    },
    {
     "data": {
      "text/plain": [
       "['my', 'nice', 7, True, 'is']"
      ]
     },
     "execution_count": 106,
     "metadata": {},
     "output_type": "execute_result"
    }
   ],
   "source": [
    "a = 'is'\n",
    "b  = 'nice'\n",
    "my_list = ['my', 'list', a, b]\n",
    "my_list.append(7)\n",
    "my_list.append(True)\n",
    "my_list.append('is')\n",
    "my_list.__len__()\n",
    "my_list[-2]\n",
    "print(my_list)\n",
    "print(my_list[1:3])\n",
    "print(my_list[:3])\n",
    "print(my_list[1:])\n",
    "print(my_list[:])\n",
    "my_list1 = my_list[1:5]\n",
    "print(my_list1)\n",
    "\n",
    "my_list2 = [[4,5,6,7], [3,6,7,8]]\n",
    "print(my_list2)\n",
    "print(my_list2[1][:3])\n",
    "for e in my_list:\n",
    "    print(e)\n",
    "my_list.count('is')\n",
    "del(my_list[1:3])\n",
    "my_list\n",
    "\n"
   ]
  }
 ],
 "metadata": {
  "kernelspec": {
   "display_name": ".venv",
   "language": "python",
   "name": "python3"
  },
  "language_info": {
   "codemirror_mode": {
    "name": "ipython",
    "version": 3
   },
   "file_extension": ".py",
   "mimetype": "text/x-python",
   "name": "python",
   "nbconvert_exporter": "python",
   "pygments_lexer": "ipython3",
   "version": "3.9.13"
  }
 },
 "nbformat": 4,
 "nbformat_minor": 2
}
