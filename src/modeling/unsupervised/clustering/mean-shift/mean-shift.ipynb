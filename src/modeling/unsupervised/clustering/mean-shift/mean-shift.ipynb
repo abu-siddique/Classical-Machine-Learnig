{
 "cells": [
  {
   "cell_type": "code",
   "execution_count": 611,
   "metadata": {},
   "outputs": [],
   "source": [
    "import numpy as np\n",
    "from scipy.spatial.distance import cdist"
   ]
  },
  {
   "cell_type": "code",
   "execution_count": 612,
   "metadata": {},
   "outputs": [],
   "source": [
    "data = np.array([[2.50, 3.17],\n",
    "       [2.50, 3.17],\n",
    "       [2.50, 3.17],\n",
    "       [7.50, 8.17],\n",
    "       [7.50, 8.17],\n",
    "       [7.50, 8.17]])"
   ]
  },
  {
   "cell_type": "code",
   "execution_count": 613,
   "metadata": {},
   "outputs": [],
   "source": [
    "point = np.array([2.0, 3.0])"
   ]
  },
  {
   "cell_type": "code",
   "execution_count": 614,
   "metadata": {},
   "outputs": [
    {
     "name": "stdout",
     "output_type": "stream",
     "text": [
      "[[2.50 3.17]\n",
      " [2.50 3.17]\n",
      " [2.50 3.17]\n",
      " [7.50 8.17]\n",
      " [7.50 8.17]\n",
      " [7.50 8.17]]\n"
     ]
    },
    {
     "data": {
      "text/plain": [
       "array([[0.00, 0.00],\n",
       "       [0.00, 0.00],\n",
       "       [0.00, 0.00],\n",
       "       [0.00, 0.00],\n",
       "       [0.00, 0.00],\n",
       "       [0.00, 0.00]])"
      ]
     },
     "execution_count": 614,
     "metadata": {},
     "output_type": "execute_result"
    }
   ],
   "source": [
    "shifted_points = np.copy(data)\n",
    "print(shifted_points)\n",
    "new_points = np.zeros_like(shifted_points)\n",
    "new_points"
   ]
  },
  {
   "cell_type": "code",
   "execution_count": 615,
   "metadata": {},
   "outputs": [],
   "source": [
    "h = 1.5"
   ]
  },
  {
   "cell_type": "code",
   "execution_count": 616,
   "metadata": {},
   "outputs": [
    {
     "name": "stdout",
     "output_type": "stream",
     "text": [
      "[0.53 0.53 0.53 7.55 7.55 7.55]\n"
     ]
    },
    {
     "data": {
      "text/plain": [
       "numpy.ndarray"
      ]
     },
     "execution_count": 616,
     "metadata": {},
     "output_type": "execute_result"
    }
   ],
   "source": [
    "distances = cdist([point], data, metric='euclidean')[0]\n",
    "print(distances)\n",
    "type(distances)\n"
   ]
  },
  {
   "cell_type": "code",
   "execution_count": 617,
   "metadata": {},
   "outputs": [
    {
     "name": "stdout",
     "output_type": "stream",
     "text": [
      "[0.25 0.25 0.25 0.00 0.00 0.00]\n"
     ]
    },
    {
     "data": {
      "text/plain": [
       "numpy.ndarray"
      ]
     },
     "execution_count": 617,
     "metadata": {},
     "output_type": "execute_result"
    }
   ],
   "source": [
    "kernel_values = np.exp(-0.5*(distances/h)**2)/(h*np.sqrt(2*np.pi))\n",
    "print(kernel_values)\n",
    "type(kernel_values)"
   ]
  },
  {
   "cell_type": "code",
   "execution_count": 618,
   "metadata": {},
   "outputs": [
    {
     "data": {
      "text/plain": [
       "array([[0.25],\n",
       "       [0.25],\n",
       "       [0.25],\n",
       "       [0.00],\n",
       "       [0.00],\n",
       "       [0.00]])"
      ]
     },
     "execution_count": 618,
     "metadata": {},
     "output_type": "execute_result"
    }
   ],
   "source": [
    "kernel_values_reshaped = kernel_values.reshape(len(kernel_values),1)\n",
    "kernel_values_reshaped"
   ]
  },
  {
   "cell_type": "code",
   "execution_count": 619,
   "metadata": {},
   "outputs": [
    {
     "data": {
      "text/plain": [
       "array([[0.62, 0.79],\n",
       "       [0.62, 0.79],\n",
       "       [0.62, 0.79],\n",
       "       [0.00, 0.00],\n",
       "       [0.00, 0.00],\n",
       "       [0.00, 0.00]])"
      ]
     },
     "execution_count": 619,
     "metadata": {},
     "output_type": "execute_result"
    }
   ],
   "source": [
    "weighted_data = np.multiply(data, kernel_values_reshaped)\n",
    "weighted_data"
   ]
  },
  {
   "cell_type": "code",
   "execution_count": 620,
   "metadata": {},
   "outputs": [
    {
     "name": "stdout",
     "output_type": "stream",
     "text": [
      "[1.87 2.38]\n",
      "0.7499372381552979\n"
     ]
    }
   ],
   "source": [
    "weighted_data_sum = np.sum(weighted_data, axis=0)\n",
    "print(weighted_data_sum)\n",
    "kernel_values_sum = np.sum(kernel_values)\n",
    "print(kernel_values_sum)"
   ]
  },
  {
   "cell_type": "code",
   "execution_count": 621,
   "metadata": {},
   "outputs": [
    {
     "name": "stdout",
     "output_type": "stream",
     "text": [
      "[2.50 3.17]\n"
     ]
    }
   ],
   "source": [
    "mean_shift = np.divide(weighted_data_sum, kernel_values_sum)\n",
    "print(mean_shift)"
   ]
  },
  {
   "cell_type": "code",
   "execution_count": 622,
   "metadata": {},
   "outputs": [
    {
     "data": {
      "text/plain": [
       "array([4.50, 6.17])"
      ]
     },
     "execution_count": 622,
     "metadata": {},
     "output_type": "execute_result"
    }
   ],
   "source": [
    "np.add(mean_shift, point)"
   ]
  },
  {
   "cell_type": "code",
   "execution_count": 623,
   "metadata": {},
   "outputs": [],
   "source": [
    "def calculate_mean_shift_vector(point, data, h):\n",
    "    distances = cdist([point], data, metric='euclidean')[0]\n",
    "    kernel_values = np.exp(-0.5*(distances/h)**2)/(h*np.sqrt(2*np.pi))\n",
    "    kernel_values_reshaped = kernel_values.reshape(len(kernel_values),1)\n",
    "    # print(\"kernel_value_shaped \", kernel_values_reshaped)\n",
    "    weighted_data = np.multiply(data, kernel_values_reshaped)\n",
    "    # print(\"weighted_data \",weighted_data)\n",
    "    weighted_data_sum = np.sum(weighted_data, axis=0)\n",
    "    kernel_values_sum = np.sum(kernel_values)\n",
    "    mean_shift = np.divide(weighted_data_sum, kernel_values_sum)\n",
    "    return mean_shift\n",
    "\n"
   ]
  },
  {
   "cell_type": "code",
   "execution_count": 624,
   "metadata": {},
   "outputs": [],
   "source": [
    "def mean_shift(data):\n",
    "    shifted_points = np.copy(data)\n",
    "    tolerance = 1e-3\n",
    "    for iteration in range(1, 10):\n",
    "        max_shift = 0\n",
    "        new_points = np.zeros_like(shifted_points)\n",
    "        for i in range(len(shifted_points)):\n",
    "            mean_shift_vector = calculate_mean_shift_vector(shifted_points[i], shifted_points, 1.5)\n",
    "            # print(mean_shift_vector-shifted_points[i])\n",
    "            shift_distance = np.linalg.norm(mean_shift_vector-shifted_points[i]) #norm gives ecludian norm of vector, it can also calcuate ecludian dist bet two points or vectors\n",
    "            # print(shift_distance)\n",
    "            new_points[i] = mean_shift_vector\n",
    "            max_shift = max(max_shift, shift_distance)\n",
    "        # print(\"max_shift \",max_shift)\n",
    "        \n",
    "        shifted_points = new_points\n",
    "        print(shifted_points)\n",
    "        \n",
    "        if max_shift < tolerance:\n",
    "            print(f\"Converged after {iteration + 1} iterations.\")\n",
    "            break\n",
    "    \n",
    "    return shifted_points\n",
    "        \n",
    "    \n",
    "\n"
   ]
  },
  {
   "cell_type": "code",
   "execution_count": 625,
   "metadata": {},
   "outputs": [
    {
     "name": "stdout",
     "output_type": "stream",
     "text": [
      "[[2.50 3.17]\n",
      " [2.50 3.17]\n",
      " [2.50 3.17]\n",
      " [7.50 8.17]\n",
      " [7.50 8.17]\n",
      " [7.50 8.17]]\n",
      "[[2.50 3.17]\n",
      " [2.50 3.17]\n",
      " [2.50 3.17]\n",
      " [7.50 8.17]\n",
      " [7.50 8.17]\n",
      " [7.50 8.17]]\n",
      "Converged after 2 iterations.\n"
     ]
    },
    {
     "data": {
      "text/plain": [
       "array([[2.50, 3.17],\n",
       "       [2.50, 3.17],\n",
       "       [2.50, 3.17],\n",
       "       [7.50, 8.17],\n",
       "       [7.50, 8.17],\n",
       "       [7.50, 8.17]])"
      ]
     },
     "execution_count": 625,
     "metadata": {},
     "output_type": "execute_result"
    }
   ],
   "source": [
    "print(data)\n",
    "mean_shift(data)"
   ]
  },
  {
   "cell_type": "code",
   "execution_count": null,
   "metadata": {},
   "outputs": [],
   "source": []
  }
 ],
 "metadata": {
  "kernelspec": {
   "display_name": ".venv",
   "language": "python",
   "name": "python3"
  },
  "language_info": {
   "codemirror_mode": {
    "name": "ipython",
    "version": 3
   },
   "file_extension": ".py",
   "mimetype": "text/x-python",
   "name": "python",
   "nbconvert_exporter": "python",
   "pygments_lexer": "ipython3",
   "version": "3.9.13"
  }
 },
 "nbformat": 4,
 "nbformat_minor": 2
}
