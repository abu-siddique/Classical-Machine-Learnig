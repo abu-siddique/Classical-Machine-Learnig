{
 "cells": [
  {
   "cell_type": "code",
   "execution_count": 2,
   "metadata": {},
   "outputs": [],
   "source": [
    "import numpy as np\n",
    "from collections import deque"
   ]
  },
  {
   "cell_type": "code",
   "execution_count": 33,
   "metadata": {},
   "outputs": [],
   "source": [
    "def dbscan(data, eps, min_pts):\n",
    "    labels = np.zeros(len(data), dtype=int)\n",
    "    cluster_id = 0\n",
    "    \n",
    "    def region_query(point):\n",
    "        neighbors = []\n",
    "        for i in range(len(data)):\n",
    "            if labels[i] == 0:\n",
    "                if np.linalg.norm(data[i] - point) < eps:\n",
    "                    neighbors.append(i)\n",
    "        return neighbors\n",
    "    \n",
    "    def expand_cluster(cluster_id, neighbors):\n",
    "        queue = deque(neighbors)\n",
    "        while queue:\n",
    "            neighbor_id = queue.popleft()\n",
    "            if labels[neighbor_id] == 0:\n",
    "                labels[neighbor_id] = cluster_id\n",
    "                new_neighbors = region_query(data[neighbor_id])\n",
    "                if len(neighbors) >= min_pts:\n",
    "                    queue.extend(new_neighbors)\n",
    "    \n",
    "    \n",
    "    for i in range(len(data)):\n",
    "        if labels[i] == 0:\n",
    "            neighbors = region_query(data[i])\n",
    "            if len(neighbors) >= min_pts:\n",
    "                cluster_id += 1\n",
    "                expand_cluster(cluster_id, neighbors)\n",
    "    print(labels)"
   ]
  },
  {
   "cell_type": "code",
   "execution_count": 34,
   "metadata": {},
   "outputs": [
    {
     "name": "stdout",
     "output_type": "stream",
     "text": [
      "[1 1 1 2 2 0 2 1 2 0 1 2 2 2 1 2 1 2 2 1]\n"
     ]
    }
   ],
   "source": [
    "data = np.array([\n",
    "    [1, 2], [2, 2], [2, 3], [8, 7], [8, 8], [25, 80], [7, 8], [3, 3], [8, 9], \n",
    "    [25, 79], [3, 4], [7, 7], [7, 9], [9, 8], [2, 1], [9, 7], [2, 4], [6, 7], \n",
    "    [5, 6], [3, 5]\n",
    "])\n",
    "eps = 1.5\n",
    "min_pts = 3\n",
    "dbscan(data=data, eps=eps,min_pts=min_pts)"
   ]
  },
  {
   "cell_type": "code",
   "execution_count": null,
   "metadata": {},
   "outputs": [],
   "source": [
    "\n"
   ]
  }
 ],
 "metadata": {
  "kernelspec": {
   "display_name": ".venv",
   "language": "python",
   "name": "python3"
  },
  "language_info": {
   "codemirror_mode": {
    "name": "ipython",
    "version": 3
   },
   "file_extension": ".py",
   "mimetype": "text/x-python",
   "name": "python",
   "nbconvert_exporter": "python",
   "pygments_lexer": "ipython3",
   "version": "3.9.13"
  }
 },
 "nbformat": 4,
 "nbformat_minor": 2
}
